{
 "cells": [
  {
   "cell_type": "code",
   "execution_count": 1,
   "metadata": {},
   "outputs": [
    {
     "name": "stderr",
     "output_type": "stream",
     "text": [
      "2023-03-07 16:13:47.696720: I tensorflow/core/platform/cpu_feature_guard.cc:193] This TensorFlow binary is optimized with oneAPI Deep Neural Network Library (oneDNN) to use the following CPU instructions in performance-critical operations:  AVX2 FMA\n",
      "To enable them in other operations, rebuild TensorFlow with the appropriate compiler flags.\n",
      "2023-03-07 16:13:48.919638: W tensorflow/compiler/xla/stream_executor/platform/default/dso_loader.cc:64] Could not load dynamic library 'libnvinfer.so.7'; dlerror: libnvinfer.so.7: cannot open shared object file: No such file or directory; LD_LIBRARY_PATH: /usr/lib/cuda/include:/usr/lib/cuda/lib64:/usr/lib/x86_64-linux-gnu/gazebo-11/plugins:/opt/ros/humble/opt/rviz_ogre_vendor/lib:/opt/ros/humble/lib/x86_64-linux-gnu:/opt/ros/humble/lib:/home/henri/ros2_humble/install/rosbag2_storage_mcap/lib:/home/henri/ros2_humble/install/rosbag2_compression_zstd/lib:/home/henri/ros2_humble/install/mcap_vendor/lib:/home/henri/ros2_humble/install/zstd_vendor/lib:/home/henri/ros2_humble/install/rviz_default_plugins/lib:/home/henri/ros2_humble/install/rviz_common/lib:/home/henri/ros2_humble/install/rosbag2_transport/lib:/home/henri/ros2_humble/install/rosbag2_compression/lib:/home/henri/ros2_humble/install/rosbag2_cpp/lib:/home/henri/ros2_humble/install/rosbag2_storage_default_plugins/lib:/home/henri/ros2_humble/install/rosbag2_storage/lib:/home/henri/ros2_humble/install/camera_info_manager/lib:/home/henri/ros2_humble/install/camera_calibration_parsers/lib:/home/henri/ros2_humble/install/interactive_markers/lib:/home/henri/ros2_humble/install/visualization_msgs/lib:/home/henri/ros2_humble/install/robot_state_publisher/lib:/home/henri/ros2_humble/install/kdl_parser/lib:/home/henri/ros2_humble/install/urdf/lib:/home/henri/ros2_humble/install/urdfdom/lib:/home/henri/ros2_humble/install/turtlesim/lib:/home/henri/ros2_humble/install/tf2_ros/lib:/home/henri/ros2_humble/install/tf2_msgs/lib:/home/henri/ros2_humble/install/test_msgs/lib:/home/henri/ros2_humble/install/ros2cli_test_interfaces/lib:/home/henri/ros2_humble/install/quality_of_service_demo_cpp/lib:/home/henri/ros2_humble/install/image_transport/lib:/home/henri/ros2_humble/install/message_filters/lib:/home/henri/ros2_humble/install/demo_nodes_cpp/lib:/home/henri/ros2_humble/install/composition/lib:/home/henri/ros2_humble/install/laser_geometry/lib:/home/henri/ros2_humble/install/rclpy/lib:/home/henri/ros2_humble/install/action_tutorials_cpp/lib:/home/henri/ros2_humble/install/rclcpp_action/lib:/home/henri/ros2_humble/install/rcl_action/lib:/home/henri/ros2_humble/install/examples_rclcpp_wait_set/lib:/home/henri/ros2_humble/install/example_interfaces/lib:/home/henri/ros2_humble/install/action_tutorials_interfaces/lib:/home/henri/ros2_humble/install/action_msgs/lib:/home/henri/ros2_humble/install/unique_identifier_msgs/lib:/home/henri/ros2_humble/install/trajectory_msgs/lib:/home/henri/ros2_humble/install/rqt_gui_cpp/lib:/home/henri/ros2_humble/install/rclcpp_lifecycle/lib:/home/henri/ros2_humble/install/logging_demo/lib:/home/henri/ros2_humble/install/image_tools/lib:/home/henri/ros2_humble/install/examples_rclcpp_minimal_subscriber/lib:/home/henri/ros2_humble/install/examples_rclcpp_minimal_composition/lib:/home/henri/ros2_humble/install/demo_nodes_cpp_native/lib:/home/henri/ros2_humble/install/rclcpp_components/lib:/home/henri/ros2_humble/install/rclcpp/lib:/home/henri/ros2_humble/install/rcl_lifecycle/lib:/home/henri/ros2_humble/install/libstatistics_collector/lib:/home/henri/ros2_humble/install/rcl/lib:/home/henri/ros2_humble/install/rmw_implementation/lib:/home/henri/ros2_humble/install/rmw_fastrtps_dynamic_cpp/lib:/home/henri/ros2_humble/install/rmw_fastrtps_cpp/lib:/home/henri/ros2_humble/install/rmw_fastrtps_shared_cpp/lib:/home/henri/ros2_humble/install/rmw_cyclonedds_cpp/lib:/home/henri/ros2_humble/install/tracetools/lib:/home/henri/ros2_humble/install/qt_gui_cpp/lib:/home/henri/ros2_humble/install/tf2_eigen_kdl/lib:/home/henri/ros2_humble/install/tf2/lib:/home/henri/ros2_humble/install/stereo_msgs/lib:/home/henri/ros2_humble/install/std_srvs/lib:/home/henri/ros2_humble/install/shape_msgs/lib:/home/henri/ros2_humble/install/map_msgs/lib:/home/henri/ros2_humble/install/sensor_msgs/lib:/home/henri/ros2_humble/install/nav_msgs/lib:/home/henri/ros2_humble/install/diagnostic_msgs/lib:/home/henri/ros2_humble/install/geometry_msgs/lib:/home/henri/ros2_humble/install/actionlib_msgs/lib:/home/henri/ros2_humble/install/std_msgs/lib:/home/henri/ros2_humble/install/statistics_msgs/lib:/home/henri/ros2_humble/install/rcl_logging_spdlog/lib:/home/henri/ros2_humble/install/rviz_rendering/lib:/home/henri/ros2_humble/install/rviz_ogre_vendor/opt/rviz_ogre_vendor/lib:/home/henri/ros2_humble/install/rttest/lib:/home/henri/ros2_humble/install/rosgraph_msgs/lib:/home/henri/ros2_humble/install/rosbag2_interfaces/lib:/home/henri/ros2_humble/install/rmw_dds_common/lib:/home/henri/ros2_humble/install/composition_interfaces/lib:/home/henri/ros2_humble/install/rcl_interfaces/lib:/home/henri/ros2_humble/install/pendulum_msgs/lib:/home/henri/ros2_humble/install/lifecycle_msgs/lib:/home/henri/ros2_humble/install/builtin_interfaces/lib:/home/henri/ros2_humble/install/rosidl_typesupport_cpp/lib:/home/henri/ros2_humble/install/rosidl_typesupport_introspection_cpp/lib:/home/henri/ros2_humble/install/rosidl_typesupport_c/lib:/home/henri/ros2_humble/install/rosidl_typesupport_introspection_c/lib:/home/henri/ros2_humble/install/rosidl_typesupport_fastrtps_c/lib:/home/henri/ros2_humble/install/rosidl_typesupport_fastrtps_cpp/lib:/home/henri/ros2_humble/install/rcl_yaml_param_parser/lib:/home/henri/ros2_humble/install/rmw/lib:/home/henri/ros2_humble/install/rosidl_runtime_c/lib:/home/henri/ros2_humble/install/rosbag2_storage_mcap_testdata/lib:/home/henri/ros2_humble/install/resource_retriever/lib:/home/henri/ros2_humble/install/class_loader/lib:/home/henri/ros2_humble/install/rcpputils/lib:/home/henri/ros2_humble/install/rcl_logging_noop/lib:/home/henri/ros2_humble/install/rcl_logging_interface/lib:/home/henri/ros2_humble/install/rcutils/lib:/home/henri/ros2_humble/install/performance_test_fixture/lib:/home/henri/ros2_humble/install/osrf_testing_tools_cpp/lib:/home/henri/ros2_humble/install/mimick_vendor/lib:/home/henri/ros2_humble/install/libyaml_vendor/lib:/home/henri/ros2_humble/install/keyboard_handler/lib:/home/henri/ros2_humble/install/cyclonedds/lib:/home/henri/ros2_humble/install/iceoryx_posh/lib:/home/henri/ros2_humble/install/iceoryx_hoofs/lib:/home/henri/ros2_humble/install/iceoryx_binding_c/lib:/home/henri/ros2_humble/install/google_benchmark_vendor/lib:/home/henri/ros2_humble/install/fastrtps/lib:/home/henri/ros2_humble/install/fastcdr/lib:/home/henri/ros2_humble/install/ament_index_cpp/lib\n",
      "2023-03-07 16:13:48.920115: W tensorflow/compiler/xla/stream_executor/platform/default/dso_loader.cc:64] Could not load dynamic library 'libnvinfer_plugin.so.7'; dlerror: libnvinfer_plugin.so.7: cannot open shared object file: No such file or directory; LD_LIBRARY_PATH: /usr/lib/cuda/include:/usr/lib/cuda/lib64:/usr/lib/x86_64-linux-gnu/gazebo-11/plugins:/opt/ros/humble/opt/rviz_ogre_vendor/lib:/opt/ros/humble/lib/x86_64-linux-gnu:/opt/ros/humble/lib:/home/henri/ros2_humble/install/rosbag2_storage_mcap/lib:/home/henri/ros2_humble/install/rosbag2_compression_zstd/lib:/home/henri/ros2_humble/install/mcap_vendor/lib:/home/henri/ros2_humble/install/zstd_vendor/lib:/home/henri/ros2_humble/install/rviz_default_plugins/lib:/home/henri/ros2_humble/install/rviz_common/lib:/home/henri/ros2_humble/install/rosbag2_transport/lib:/home/henri/ros2_humble/install/rosbag2_compression/lib:/home/henri/ros2_humble/install/rosbag2_cpp/lib:/home/henri/ros2_humble/install/rosbag2_storage_default_plugins/lib:/home/henri/ros2_humble/install/rosbag2_storage/lib:/home/henri/ros2_humble/install/camera_info_manager/lib:/home/henri/ros2_humble/install/camera_calibration_parsers/lib:/home/henri/ros2_humble/install/interactive_markers/lib:/home/henri/ros2_humble/install/visualization_msgs/lib:/home/henri/ros2_humble/install/robot_state_publisher/lib:/home/henri/ros2_humble/install/kdl_parser/lib:/home/henri/ros2_humble/install/urdf/lib:/home/henri/ros2_humble/install/urdfdom/lib:/home/henri/ros2_humble/install/turtlesim/lib:/home/henri/ros2_humble/install/tf2_ros/lib:/home/henri/ros2_humble/install/tf2_msgs/lib:/home/henri/ros2_humble/install/test_msgs/lib:/home/henri/ros2_humble/install/ros2cli_test_interfaces/lib:/home/henri/ros2_humble/install/quality_of_service_demo_cpp/lib:/home/henri/ros2_humble/install/image_transport/lib:/home/henri/ros2_humble/install/message_filters/lib:/home/henri/ros2_humble/install/demo_nodes_cpp/lib:/home/henri/ros2_humble/install/composition/lib:/home/henri/ros2_humble/install/laser_geometry/lib:/home/henri/ros2_humble/install/rclpy/lib:/home/henri/ros2_humble/install/action_tutorials_cpp/lib:/home/henri/ros2_humble/install/rclcpp_action/lib:/home/henri/ros2_humble/install/rcl_action/lib:/home/henri/ros2_humble/install/examples_rclcpp_wait_set/lib:/home/henri/ros2_humble/install/example_interfaces/lib:/home/henri/ros2_humble/install/action_tutorials_interfaces/lib:/home/henri/ros2_humble/install/action_msgs/lib:/home/henri/ros2_humble/install/unique_identifier_msgs/lib:/home/henri/ros2_humble/install/trajectory_msgs/lib:/home/henri/ros2_humble/install/rqt_gui_cpp/lib:/home/henri/ros2_humble/install/rclcpp_lifecycle/lib:/home/henri/ros2_humble/install/logging_demo/lib:/home/henri/ros2_humble/install/image_tools/lib:/home/henri/ros2_humble/install/examples_rclcpp_minimal_subscriber/lib:/home/henri/ros2_humble/install/examples_rclcpp_minimal_composition/lib:/home/henri/ros2_humble/install/demo_nodes_cpp_native/lib:/home/henri/ros2_humble/install/rclcpp_components/lib:/home/henri/ros2_humble/install/rclcpp/lib:/home/henri/ros2_humble/install/rcl_lifecycle/lib:/home/henri/ros2_humble/install/libstatistics_collector/lib:/home/henri/ros2_humble/install/rcl/lib:/home/henri/ros2_humble/install/rmw_implementation/lib:/home/henri/ros2_humble/install/rmw_fastrtps_dynamic_cpp/lib:/home/henri/ros2_humble/install/rmw_fastrtps_cpp/lib:/home/henri/ros2_humble/install/rmw_fastrtps_shared_cpp/lib:/home/henri/ros2_humble/install/rmw_cyclonedds_cpp/lib:/home/henri/ros2_humble/install/tracetools/lib:/home/henri/ros2_humble/install/qt_gui_cpp/lib:/home/henri/ros2_humble/install/tf2_eigen_kdl/lib:/home/henri/ros2_humble/install/tf2/lib:/home/henri/ros2_humble/install/stereo_msgs/lib:/home/henri/ros2_humble/install/std_srvs/lib:/home/henri/ros2_humble/install/shape_msgs/lib:/home/henri/ros2_humble/install/map_msgs/lib:/home/henri/ros2_humble/install/sensor_msgs/lib:/home/henri/ros2_humble/install/nav_msgs/lib:/home/henri/ros2_humble/install/diagnostic_msgs/lib:/home/henri/ros2_humble/install/geometry_msgs/lib:/home/henri/ros2_humble/install/actionlib_msgs/lib:/home/henri/ros2_humble/install/std_msgs/lib:/home/henri/ros2_humble/install/statistics_msgs/lib:/home/henri/ros2_humble/install/rcl_logging_spdlog/lib:/home/henri/ros2_humble/install/rviz_rendering/lib:/home/henri/ros2_humble/install/rviz_ogre_vendor/opt/rviz_ogre_vendor/lib:/home/henri/ros2_humble/install/rttest/lib:/home/henri/ros2_humble/install/rosgraph_msgs/lib:/home/henri/ros2_humble/install/rosbag2_interfaces/lib:/home/henri/ros2_humble/install/rmw_dds_common/lib:/home/henri/ros2_humble/install/composition_interfaces/lib:/home/henri/ros2_humble/install/rcl_interfaces/lib:/home/henri/ros2_humble/install/pendulum_msgs/lib:/home/henri/ros2_humble/install/lifecycle_msgs/lib:/home/henri/ros2_humble/install/builtin_interfaces/lib:/home/henri/ros2_humble/install/rosidl_typesupport_cpp/lib:/home/henri/ros2_humble/install/rosidl_typesupport_introspection_cpp/lib:/home/henri/ros2_humble/install/rosidl_typesupport_c/lib:/home/henri/ros2_humble/install/rosidl_typesupport_introspection_c/lib:/home/henri/ros2_humble/install/rosidl_typesupport_fastrtps_c/lib:/home/henri/ros2_humble/install/rosidl_typesupport_fastrtps_cpp/lib:/home/henri/ros2_humble/install/rcl_yaml_param_parser/lib:/home/henri/ros2_humble/install/rmw/lib:/home/henri/ros2_humble/install/rosidl_runtime_c/lib:/home/henri/ros2_humble/install/rosbag2_storage_mcap_testdata/lib:/home/henri/ros2_humble/install/resource_retriever/lib:/home/henri/ros2_humble/install/class_loader/lib:/home/henri/ros2_humble/install/rcpputils/lib:/home/henri/ros2_humble/install/rcl_logging_noop/lib:/home/henri/ros2_humble/install/rcl_logging_interface/lib:/home/henri/ros2_humble/install/rcutils/lib:/home/henri/ros2_humble/install/performance_test_fixture/lib:/home/henri/ros2_humble/install/osrf_testing_tools_cpp/lib:/home/henri/ros2_humble/install/mimick_vendor/lib:/home/henri/ros2_humble/install/libyaml_vendor/lib:/home/henri/ros2_humble/install/keyboard_handler/lib:/home/henri/ros2_humble/install/cyclonedds/lib:/home/henri/ros2_humble/install/iceoryx_posh/lib:/home/henri/ros2_humble/install/iceoryx_hoofs/lib:/home/henri/ros2_humble/install/iceoryx_binding_c/lib:/home/henri/ros2_humble/install/google_benchmark_vendor/lib:/home/henri/ros2_humble/install/fastrtps/lib:/home/henri/ros2_humble/install/fastcdr/lib:/home/henri/ros2_humble/install/ament_index_cpp/lib\n",
      "2023-03-07 16:13:48.920139: W tensorflow/compiler/tf2tensorrt/utils/py_utils.cc:38] TF-TRT Warning: Cannot dlopen some TensorRT libraries. If you would like to use Nvidia GPU with TensorRT, please make sure the missing libraries mentioned above are installed properly.\n"
     ]
    }
   ],
   "source": [
    "import numpy as np \n",
    "import tensorflow as tf\n",
    "import tensorflow_probability as tfp\n",
    "import matplotlib.pyplot as plt\n"
   ]
  },
  {
   "cell_type": "code",
   "execution_count": 16,
   "metadata": {},
   "outputs": [],
   "source": [
    "class CAE(tf.keras.Model):\n",
    "    def __init__(self, latent_dim):\n",
    "        super(CAE, self).__init__()\n",
    "        self.latent_dim = latent_dim\n",
    "        self.encoder = tf.keras.Sequential(\n",
    "            [\n",
    "                tf.keras.layers.InputLayer(input_shape=(64,64 , 3)),\n",
    "                tf.keras.layers.Conv2D(\n",
    "                    filters=(32), kernel_size=3, strides=(2, 2), activation='relu'),\n",
    "                tf.keras.layers.Conv2D(\n",
    "                    filters=(64), kernel_size=3, strides=(2, 2), activation='relu'),\n",
    "                tf.keras.layers.Conv2D(\n",
    "                    filters=(64), kernel_size=3, strides=(2, 2), activation='relu'),\n",
    "                tf.keras.layers.Conv2D(\n",
    "                    filters=(64), kernel_size=3, strides=(2, 2), activation='relu'),\n",
    "                tf.keras.layers.Flatten(),\n",
    "                tf.keras.layers.Dense(16*16\n",
    "                                        *32, activation=tf.nn.relu),\n",
    "                # No activation\n",
    "                tf.keras.layers.Dense(latent_dim),\n",
    "            ])\n",
    "        self.decoder = tf.keras.Sequential(\n",
    "            [\n",
    "                tf.keras.layers.InputLayer(input_shape=(latent_dim,)),\n",
    "                tf.keras.layers.Dense(units=16*16*32, activation=tf.nn.relu),\n",
    "                tf.keras.layers.Reshape(target_shape=(16, 16, 32)),\n",
    "                tf.keras.layers.Conv2DTranspose(\n",
    "                    filters=64, kernel_size=3, strides=2, padding='same',\n",
    "                    activation='relu'),\n",
    "                tf.keras.layers.Conv2DTranspose(\n",
    "                    filters=64, kernel_size=3, strides=2, padding='same',\n",
    "                ),\n",
    "                tf.keras.layers.Conv2DTranspose(\n",
    "                    filters=64, kernel_size=3, strides=2, padding='same',\n",
    "                ),\n",
    "                tf.keras.layers.Conv2D(\n",
    "                    filters=32, kernel_size=3, strides=2, padding='same',\n",
    "                ),\n",
    "                # No activation\n",
    "                tf.keras.layers.Conv2DTranspose(  \n",
    "                    filters=3, kernel_size=3, strides=1, padding='same')\n",
    "            ]\n",
    "            )\n",
    "        \n",
    "    def encode(self, x,training=False):\n",
    "        return self.encoder(x,training=training)\n",
    "        \n",
    "    def decode(self, x,training=False):\n",
    "        return self.decoder(x,training=training)\n",
    "        \n",
    "    @tf.function\n",
    "    def call(self, x,training=False):\n",
    "        return self.decode(self.encode(x,training=training),training=training)\n",
    "            \n",
    "        \n",
    "        \n"
   ]
  },
  {
   "cell_type": "code",
   "execution_count": 17,
   "metadata": {},
   "outputs": [
    {
     "data": {
      "text/plain": [
       "TensorShape([1, 64, 64, 3])"
      ]
     },
     "execution_count": 17,
     "metadata": {},
     "output_type": "execute_result"
    }
   ],
   "source": [
    "CAE(10)(np.arange(64*64*3).reshape(1,64,64,3)).shape"
   ]
  },
  {
   "cell_type": "code",
   "execution_count": null,
   "metadata": {},
   "outputs": [],
   "source": []
  }
 ],
 "metadata": {
  "kernelspec": {
   "display_name": "Python 3",
   "language": "python",
   "name": "python3"
  },
  "language_info": {
   "codemirror_mode": {
    "name": "ipython",
    "version": 3
   },
   "file_extension": ".py",
   "mimetype": "text/x-python",
   "name": "python",
   "nbconvert_exporter": "python",
   "pygments_lexer": "ipython3",
   "version": "3.10.6"
  },
  "orig_nbformat": 4
 },
 "nbformat": 4,
 "nbformat_minor": 2
}
