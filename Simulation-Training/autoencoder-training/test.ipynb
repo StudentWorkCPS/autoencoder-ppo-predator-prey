{
 "cells": [
  {
   "cell_type": "code",
   "execution_count": 2,
   "metadata": {},
   "outputs": [
    {
     "name": "stderr",
     "output_type": "stream",
     "text": [
      "2023-03-11 14:33:58.945258: I tensorflow/core/platform/cpu_feature_guard.cc:193] This TensorFlow binary is optimized with oneAPI Deep Neural Network Library (oneDNN) to use the following CPU instructions in performance-critical operations:  AVX2 FMA\n",
      "To enable them in other operations, rebuild TensorFlow with the appropriate compiler flags.\n",
      "2023-03-11 14:33:59.648381: W tensorflow/compiler/xla/stream_executor/platform/default/dso_loader.cc:64] Could not load dynamic library 'libnvinfer.so.7'; dlerror: libnvinfer.so.7: cannot open shared object file: No such file or directory; LD_LIBRARY_PATH: /usr/lib/cuda/include:/usr/lib/cuda/lib64:/usr/lib/x86_64-linux-gnu/gazebo-11/plugins:/opt/ros/humble/opt/rviz_ogre_vendor/lib:/opt/ros/humble/lib/x86_64-linux-gnu:/opt/ros/humble/lib:/home/henri/ros2_humble/install/rosbag2_storage_mcap/lib:/home/henri/ros2_humble/install/rosbag2_compression_zstd/lib:/home/henri/ros2_humble/install/mcap_vendor/lib:/home/henri/ros2_humble/install/zstd_vendor/lib:/home/henri/ros2_humble/install/rviz_default_plugins/lib:/home/henri/ros2_humble/install/rviz_common/lib:/home/henri/ros2_humble/install/rosbag2_transport/lib:/home/henri/ros2_humble/install/rosbag2_compression/lib:/home/henri/ros2_humble/install/rosbag2_cpp/lib:/home/henri/ros2_humble/install/rosbag2_storage_default_plugins/lib:/home/henri/ros2_humble/install/rosbag2_storage/lib:/home/henri/ros2_humble/install/camera_info_manager/lib:/home/henri/ros2_humble/install/camera_calibration_parsers/lib:/home/henri/ros2_humble/install/interactive_markers/lib:/home/henri/ros2_humble/install/visualization_msgs/lib:/home/henri/ros2_humble/install/robot_state_publisher/lib:/home/henri/ros2_humble/install/kdl_parser/lib:/home/henri/ros2_humble/install/urdf/lib:/home/henri/ros2_humble/install/urdfdom/lib:/home/henri/ros2_humble/install/turtlesim/lib:/home/henri/ros2_humble/install/tf2_ros/lib:/home/henri/ros2_humble/install/tf2_msgs/lib:/home/henri/ros2_humble/install/test_msgs/lib:/home/henri/ros2_humble/install/ros2cli_test_interfaces/lib:/home/henri/ros2_humble/install/quality_of_service_demo_cpp/lib:/home/henri/ros2_humble/install/image_transport/lib:/home/henri/ros2_humble/install/message_filters/lib:/home/henri/ros2_humble/install/demo_nodes_cpp/lib:/home/henri/ros2_humble/install/composition/lib:/home/henri/ros2_humble/install/laser_geometry/lib:/home/henri/ros2_humble/install/rclpy/lib:/home/henri/ros2_humble/install/action_tutorials_cpp/lib:/home/henri/ros2_humble/install/rclcpp_action/lib:/home/henri/ros2_humble/install/rcl_action/lib:/home/henri/ros2_humble/install/examples_rclcpp_wait_set/lib:/home/henri/ros2_humble/install/example_interfaces/lib:/home/henri/ros2_humble/install/action_tutorials_interfaces/lib:/home/henri/ros2_humble/install/action_msgs/lib:/home/henri/ros2_humble/install/unique_identifier_msgs/lib:/home/henri/ros2_humble/install/trajectory_msgs/lib:/home/henri/ros2_humble/install/rqt_gui_cpp/lib:/home/henri/ros2_humble/install/rclcpp_lifecycle/lib:/home/henri/ros2_humble/install/logging_demo/lib:/home/henri/ros2_humble/install/image_tools/lib:/home/henri/ros2_humble/install/examples_rclcpp_minimal_subscriber/lib:/home/henri/ros2_humble/install/examples_rclcpp_minimal_composition/lib:/home/henri/ros2_humble/install/demo_nodes_cpp_native/lib:/home/henri/ros2_humble/install/rclcpp_components/lib:/home/henri/ros2_humble/install/rclcpp/lib:/home/henri/ros2_humble/install/rcl_lifecycle/lib:/home/henri/ros2_humble/install/libstatistics_collector/lib:/home/henri/ros2_humble/install/rcl/lib:/home/henri/ros2_humble/install/rmw_implementation/lib:/home/henri/ros2_humble/install/rmw_fastrtps_dynamic_cpp/lib:/home/henri/ros2_humble/install/rmw_fastrtps_cpp/lib:/home/henri/ros2_humble/install/rmw_fastrtps_shared_cpp/lib:/home/henri/ros2_humble/install/rmw_cyclonedds_cpp/lib:/home/henri/ros2_humble/install/tracetools/lib:/home/henri/ros2_humble/install/qt_gui_cpp/lib:/home/henri/ros2_humble/install/tf2_eigen_kdl/lib:/home/henri/ros2_humble/install/tf2/lib:/home/henri/ros2_humble/install/stereo_msgs/lib:/home/henri/ros2_humble/install/std_srvs/lib:/home/henri/ros2_humble/install/shape_msgs/lib:/home/henri/ros2_humble/install/map_msgs/lib:/home/henri/ros2_humble/install/sensor_msgs/lib:/home/henri/ros2_humble/install/nav_msgs/lib:/home/henri/ros2_humble/install/diagnostic_msgs/lib:/home/henri/ros2_humble/install/geometry_msgs/lib:/home/henri/ros2_humble/install/actionlib_msgs/lib:/home/henri/ros2_humble/install/std_msgs/lib:/home/henri/ros2_humble/install/statistics_msgs/lib:/home/henri/ros2_humble/install/rcl_logging_spdlog/lib:/home/henri/ros2_humble/install/rviz_rendering/lib:/home/henri/ros2_humble/install/rviz_ogre_vendor/opt/rviz_ogre_vendor/lib:/home/henri/ros2_humble/install/rttest/lib:/home/henri/ros2_humble/install/rosgraph_msgs/lib:/home/henri/ros2_humble/install/rosbag2_interfaces/lib:/home/henri/ros2_humble/install/rmw_dds_common/lib:/home/henri/ros2_humble/install/composition_interfaces/lib:/home/henri/ros2_humble/install/rcl_interfaces/lib:/home/henri/ros2_humble/install/pendulum_msgs/lib:/home/henri/ros2_humble/install/lifecycle_msgs/lib:/home/henri/ros2_humble/install/builtin_interfaces/lib:/home/henri/ros2_humble/install/rosidl_typesupport_cpp/lib:/home/henri/ros2_humble/install/rosidl_typesupport_introspection_cpp/lib:/home/henri/ros2_humble/install/rosidl_typesupport_c/lib:/home/henri/ros2_humble/install/rosidl_typesupport_introspection_c/lib:/home/henri/ros2_humble/install/rosidl_typesupport_fastrtps_c/lib:/home/henri/ros2_humble/install/rosidl_typesupport_fastrtps_cpp/lib:/home/henri/ros2_humble/install/rcl_yaml_param_parser/lib:/home/henri/ros2_humble/install/rmw/lib:/home/henri/ros2_humble/install/rosidl_runtime_c/lib:/home/henri/ros2_humble/install/rosbag2_storage_mcap_testdata/lib:/home/henri/ros2_humble/install/resource_retriever/lib:/home/henri/ros2_humble/install/class_loader/lib:/home/henri/ros2_humble/install/rcpputils/lib:/home/henri/ros2_humble/install/rcl_logging_noop/lib:/home/henri/ros2_humble/install/rcl_logging_interface/lib:/home/henri/ros2_humble/install/rcutils/lib:/home/henri/ros2_humble/install/performance_test_fixture/lib:/home/henri/ros2_humble/install/osrf_testing_tools_cpp/lib:/home/henri/ros2_humble/install/mimick_vendor/lib:/home/henri/ros2_humble/install/libyaml_vendor/lib:/home/henri/ros2_humble/install/keyboard_handler/lib:/home/henri/ros2_humble/install/cyclonedds/lib:/home/henri/ros2_humble/install/iceoryx_posh/lib:/home/henri/ros2_humble/install/iceoryx_hoofs/lib:/home/henri/ros2_humble/install/iceoryx_binding_c/lib:/home/henri/ros2_humble/install/google_benchmark_vendor/lib:/home/henri/ros2_humble/install/fastrtps/lib:/home/henri/ros2_humble/install/fastcdr/lib:/home/henri/ros2_humble/install/ament_index_cpp/lib\n",
      "2023-03-11 14:33:59.648788: W tensorflow/compiler/xla/stream_executor/platform/default/dso_loader.cc:64] Could not load dynamic library 'libnvinfer_plugin.so.7'; dlerror: libnvinfer_plugin.so.7: cannot open shared object file: No such file or directory; LD_LIBRARY_PATH: /usr/lib/cuda/include:/usr/lib/cuda/lib64:/usr/lib/x86_64-linux-gnu/gazebo-11/plugins:/opt/ros/humble/opt/rviz_ogre_vendor/lib:/opt/ros/humble/lib/x86_64-linux-gnu:/opt/ros/humble/lib:/home/henri/ros2_humble/install/rosbag2_storage_mcap/lib:/home/henri/ros2_humble/install/rosbag2_compression_zstd/lib:/home/henri/ros2_humble/install/mcap_vendor/lib:/home/henri/ros2_humble/install/zstd_vendor/lib:/home/henri/ros2_humble/install/rviz_default_plugins/lib:/home/henri/ros2_humble/install/rviz_common/lib:/home/henri/ros2_humble/install/rosbag2_transport/lib:/home/henri/ros2_humble/install/rosbag2_compression/lib:/home/henri/ros2_humble/install/rosbag2_cpp/lib:/home/henri/ros2_humble/install/rosbag2_storage_default_plugins/lib:/home/henri/ros2_humble/install/rosbag2_storage/lib:/home/henri/ros2_humble/install/camera_info_manager/lib:/home/henri/ros2_humble/install/camera_calibration_parsers/lib:/home/henri/ros2_humble/install/interactive_markers/lib:/home/henri/ros2_humble/install/visualization_msgs/lib:/home/henri/ros2_humble/install/robot_state_publisher/lib:/home/henri/ros2_humble/install/kdl_parser/lib:/home/henri/ros2_humble/install/urdf/lib:/home/henri/ros2_humble/install/urdfdom/lib:/home/henri/ros2_humble/install/turtlesim/lib:/home/henri/ros2_humble/install/tf2_ros/lib:/home/henri/ros2_humble/install/tf2_msgs/lib:/home/henri/ros2_humble/install/test_msgs/lib:/home/henri/ros2_humble/install/ros2cli_test_interfaces/lib:/home/henri/ros2_humble/install/quality_of_service_demo_cpp/lib:/home/henri/ros2_humble/install/image_transport/lib:/home/henri/ros2_humble/install/message_filters/lib:/home/henri/ros2_humble/install/demo_nodes_cpp/lib:/home/henri/ros2_humble/install/composition/lib:/home/henri/ros2_humble/install/laser_geometry/lib:/home/henri/ros2_humble/install/rclpy/lib:/home/henri/ros2_humble/install/action_tutorials_cpp/lib:/home/henri/ros2_humble/install/rclcpp_action/lib:/home/henri/ros2_humble/install/rcl_action/lib:/home/henri/ros2_humble/install/examples_rclcpp_wait_set/lib:/home/henri/ros2_humble/install/example_interfaces/lib:/home/henri/ros2_humble/install/action_tutorials_interfaces/lib:/home/henri/ros2_humble/install/action_msgs/lib:/home/henri/ros2_humble/install/unique_identifier_msgs/lib:/home/henri/ros2_humble/install/trajectory_msgs/lib:/home/henri/ros2_humble/install/rqt_gui_cpp/lib:/home/henri/ros2_humble/install/rclcpp_lifecycle/lib:/home/henri/ros2_humble/install/logging_demo/lib:/home/henri/ros2_humble/install/image_tools/lib:/home/henri/ros2_humble/install/examples_rclcpp_minimal_subscriber/lib:/home/henri/ros2_humble/install/examples_rclcpp_minimal_composition/lib:/home/henri/ros2_humble/install/demo_nodes_cpp_native/lib:/home/henri/ros2_humble/install/rclcpp_components/lib:/home/henri/ros2_humble/install/rclcpp/lib:/home/henri/ros2_humble/install/rcl_lifecycle/lib:/home/henri/ros2_humble/install/libstatistics_collector/lib:/home/henri/ros2_humble/install/rcl/lib:/home/henri/ros2_humble/install/rmw_implementation/lib:/home/henri/ros2_humble/install/rmw_fastrtps_dynamic_cpp/lib:/home/henri/ros2_humble/install/rmw_fastrtps_cpp/lib:/home/henri/ros2_humble/install/rmw_fastrtps_shared_cpp/lib:/home/henri/ros2_humble/install/rmw_cyclonedds_cpp/lib:/home/henri/ros2_humble/install/tracetools/lib:/home/henri/ros2_humble/install/qt_gui_cpp/lib:/home/henri/ros2_humble/install/tf2_eigen_kdl/lib:/home/henri/ros2_humble/install/tf2/lib:/home/henri/ros2_humble/install/stereo_msgs/lib:/home/henri/ros2_humble/install/std_srvs/lib:/home/henri/ros2_humble/install/shape_msgs/lib:/home/henri/ros2_humble/install/map_msgs/lib:/home/henri/ros2_humble/install/sensor_msgs/lib:/home/henri/ros2_humble/install/nav_msgs/lib:/home/henri/ros2_humble/install/diagnostic_msgs/lib:/home/henri/ros2_humble/install/geometry_msgs/lib:/home/henri/ros2_humble/install/actionlib_msgs/lib:/home/henri/ros2_humble/install/std_msgs/lib:/home/henri/ros2_humble/install/statistics_msgs/lib:/home/henri/ros2_humble/install/rcl_logging_spdlog/lib:/home/henri/ros2_humble/install/rviz_rendering/lib:/home/henri/ros2_humble/install/rviz_ogre_vendor/opt/rviz_ogre_vendor/lib:/home/henri/ros2_humble/install/rttest/lib:/home/henri/ros2_humble/install/rosgraph_msgs/lib:/home/henri/ros2_humble/install/rosbag2_interfaces/lib:/home/henri/ros2_humble/install/rmw_dds_common/lib:/home/henri/ros2_humble/install/composition_interfaces/lib:/home/henri/ros2_humble/install/rcl_interfaces/lib:/home/henri/ros2_humble/install/pendulum_msgs/lib:/home/henri/ros2_humble/install/lifecycle_msgs/lib:/home/henri/ros2_humble/install/builtin_interfaces/lib:/home/henri/ros2_humble/install/rosidl_typesupport_cpp/lib:/home/henri/ros2_humble/install/rosidl_typesupport_introspection_cpp/lib:/home/henri/ros2_humble/install/rosidl_typesupport_c/lib:/home/henri/ros2_humble/install/rosidl_typesupport_introspection_c/lib:/home/henri/ros2_humble/install/rosidl_typesupport_fastrtps_c/lib:/home/henri/ros2_humble/install/rosidl_typesupport_fastrtps_cpp/lib:/home/henri/ros2_humble/install/rcl_yaml_param_parser/lib:/home/henri/ros2_humble/install/rmw/lib:/home/henri/ros2_humble/install/rosidl_runtime_c/lib:/home/henri/ros2_humble/install/rosbag2_storage_mcap_testdata/lib:/home/henri/ros2_humble/install/resource_retriever/lib:/home/henri/ros2_humble/install/class_loader/lib:/home/henri/ros2_humble/install/rcpputils/lib:/home/henri/ros2_humble/install/rcl_logging_noop/lib:/home/henri/ros2_humble/install/rcl_logging_interface/lib:/home/henri/ros2_humble/install/rcutils/lib:/home/henri/ros2_humble/install/performance_test_fixture/lib:/home/henri/ros2_humble/install/osrf_testing_tools_cpp/lib:/home/henri/ros2_humble/install/mimick_vendor/lib:/home/henri/ros2_humble/install/libyaml_vendor/lib:/home/henri/ros2_humble/install/keyboard_handler/lib:/home/henri/ros2_humble/install/cyclonedds/lib:/home/henri/ros2_humble/install/iceoryx_posh/lib:/home/henri/ros2_humble/install/iceoryx_hoofs/lib:/home/henri/ros2_humble/install/iceoryx_binding_c/lib:/home/henri/ros2_humble/install/google_benchmark_vendor/lib:/home/henri/ros2_humble/install/fastrtps/lib:/home/henri/ros2_humble/install/fastcdr/lib:/home/henri/ros2_humble/install/ament_index_cpp/lib\n",
      "2023-03-11 14:33:59.648803: W tensorflow/compiler/tf2tensorrt/utils/py_utils.cc:38] TF-TRT Warning: Cannot dlopen some TensorRT libraries. If you would like to use Nvidia GPU with TensorRT, please make sure the missing libraries mentioned above are installed properly.\n"
     ]
    }
   ],
   "source": [
    "from ae import CAE\n",
    " \n",
    "import tensorflow as tf\n",
    "# Module reload\n",
    "from importlib import reload\n",
    "\n",
    "import matplotlib.pyplot as plt"
   ]
  },
  {
   "cell_type": "code",
   "execution_count": 32,
   "metadata": {},
   "outputs": [
    {
     "data": {
      "text/plain": [
       "<tensorflow.python.checkpoint.checkpoint.CheckpointLoadStatus at 0x7f68f676d2a0>"
      ]
     },
     "execution_count": 32,
     "metadata": {},
     "output_type": "execute_result"
    }
   ],
   "source": [
    "\n",
    "model = CAE(latent_dim=32)\n",
    "model.load_weights('checkpoints/ae')\n"
   ]
  },
  {
   "cell_type": "code",
   "execution_count": 13,
   "metadata": {},
   "outputs": [
    {
     "name": "stdout",
     "output_type": "stream",
     "text": [
      "[[0. 0.]\n",
      " [1. 1.]\n",
      " [0. 0.]]\n",
      "[[0. 0.]\n",
      " [1. 1.]\n",
      " [0. 0.]]\n"
     ]
    }
   ],
   "source": [
    "import numpy as np\n",
    "\n",
    "test = np.zeros((3,32,2))\n",
    "test[1][0] = np.ones(2)\n",
    "\n",
    "# get 0 idx of the first batch\n",
    "print(np.array([test[0][0],test[1][0],test[2][0]]))\n",
    "\n",
    "# simpler\n",
    "print(test[:,0])"
   ]
  },
  {
   "cell_type": "code",
   "execution_count": 4,
   "metadata": {},
   "outputs": [],
   "source": [
    "import model_utils\n",
    "reload(model_utils)\n",
    "\n",
    "data = model_utils.load_data('dataset0')"
   ]
  },
  {
   "cell_type": "code",
   "execution_count": 2,
   "metadata": {},
   "outputs": [
    {
     "data": {
      "text/plain": [
       "array([0.5, 1. ])"
      ]
     },
     "execution_count": 2,
     "metadata": {},
     "output_type": "execute_result"
    }
   ],
   "source": [
    "import numpy as np\n",
    "\n",
    "np.mean([[1,0],[2,0]],axis=1)"
   ]
  },
  {
   "cell_type": "code",
   "execution_count": 10,
   "metadata": {},
   "outputs": [
    {
     "data": {
      "text/plain": [
       "array([[[0. , 0. ],\n",
       "        [0. , 0. ],\n",
       "        [0. , 0. ],\n",
       "        [0. , 0. ],\n",
       "        [0. , 0. ],\n",
       "        [0. , 0. ],\n",
       "        [0. , 0. ],\n",
       "        [0. , 0. ],\n",
       "        [0. , 0. ],\n",
       "        [0.5, 0.5]],\n",
       "\n",
       "       [[0. , 0. ],\n",
       "        [0. , 0. ],\n",
       "        [0. , 0. ],\n",
       "        [0. , 0. ],\n",
       "        [0. , 0. ],\n",
       "        [0. , 0. ],\n",
       "        [0. , 0. ],\n",
       "        [0. , 0. ],\n",
       "        [0. , 0. ],\n",
       "        [0. , 0. ]],\n",
       "\n",
       "       [[0. , 0. ],\n",
       "        [0. , 0. ],\n",
       "        [0. , 0. ],\n",
       "        [0. , 0. ],\n",
       "        [0. , 0. ],\n",
       "        [0. , 0. ],\n",
       "        [0. , 0. ],\n",
       "        [0. , 0. ],\n",
       "        [0. , 0. ],\n",
       "        [0. , 0. ]]])"
      ]
     },
     "execution_count": 10,
     "metadata": {},
     "output_type": "execute_result"
    }
   ],
   "source": [
    "import numpy as np\n",
    "\n",
    "arr = np.zeros((3,10,2))\n",
    "\n",
    "arr[0][0] = np.ones(2)\n",
    "\n",
    "arr1 = np.roll(arr,-1,axis=1)\n",
    "arr1[0][-1] = np.ones(2) * 0.5\n",
    "arr1"
   ]
  },
  {
   "cell_type": "code",
   "execution_count": 20,
   "metadata": {},
   "outputs": [
    {
     "data": {
      "text/plain": [
       "array([[[ 0.99999998,  0.99999998],\n",
       "        [-0.99999998, -0.99999998]],\n",
       "\n",
       "       [[ 0.        ,  0.        ],\n",
       "        [ 0.        ,  0.        ]],\n",
       "\n",
       "       [[ 0.        ,  0.        ],\n",
       "        [ 0.        ,  0.        ]]])"
      ]
     },
     "execution_count": 20,
     "metadata": {},
     "output_type": "execute_result"
    }
   ],
   "source": [
    "import numpy as np\n",
    "\n",
    "arr = np.zeros((3,2,2))\n",
    "arr[0][0] = np.ones(2)\n",
    "#(arr - np.mean(arr,axis=1)) / (np.std(arr,axis=1) + 1e-8)\n",
    "np.std(arr,axis=1).shape\n",
    "\n",
    "for i in range(3):\n",
    "    arr[i] = (arr[i] - np.mean(arr[i])) / (np.std(arr[i]) + 1e-8)\n",
    "\n",
    "arr "
   ]
  },
  {
   "cell_type": "code",
   "execution_count": 6,
   "metadata": {},
   "outputs": [],
   "source": [
    "\n",
    "reload(model_utils)\n",
    "data = model_utils.normalize(data)\n",
    "data = model_utils.grey_scale(data,[1, -0.5, 0])"
   ]
  },
  {
   "cell_type": "code",
   "execution_count": 29,
   "metadata": {},
   "outputs": [
    {
     "data": {
      "text/plain": [
       "(10, 64, 64, 1)"
      ]
     },
     "execution_count": 29,
     "metadata": {},
     "output_type": "execute_result"
    }
   ],
   "source": [
    "imgs = data[10:20]\n",
    "imgs.shape"
   ]
  },
  {
   "cell_type": "code",
   "execution_count": 30,
   "metadata": {},
   "outputs": [
    {
     "data": {
      "image/png": "[encoded data removed]",
      "text/plain": [
       "<Figure size 1000x200 with 20 Axes>"
      ]
     },
     "metadata": {},
     "output_type": "display_data"
    }
   ],
   "source": [
    "predicted = model(imgs)\n",
    "\n",
    "plt.figure(figsize=(10,2))\n",
    "for i in range(10):\n",
    "    plt.subplot(2,10, i + 1)\n",
    "    plt.imshow(imgs[i, :, :, 0], cmap='gray')\n",
    "    plt.axis('off')\n",
    "    plt.subplot(2, 10, i + 11)\n",
    "    plt.imshow(predicted[i, :, :, 0], cmap='gray')\n",
    "    plt.axis('off')\n",
    "  "
   ]
  },
  {
   "cell_type": "code",
   "execution_count": 40,
   "metadata": {},
   "outputs": [
    {
     "data": {
      "text/plain": [
       "((2, 3, 3, 2),\n",
       " array([[[2.],\n",
       "         [3.],\n",
       "         [4.]],\n",
       " \n",
       "        [[2.],\n",
       "         [3.],\n",
       "         [4.]]]))"
      ]
     },
     "execution_count": 40,
     "metadata": {},
     "output_type": "execute_result"
    }
   ],
   "source": [
    "# Test for State Rolling Window\n",
    "\n",
    "import tensorflow as tf\n",
    "#tf.config.set_visible_devices([], 'GPU')\n",
    "import numpy as np\n",
    "\n",
    "#lstm = tf.keras.layers.LSTM(1,activation='tanh')\n",
    "#model = tf.keras.Sequential([lstm])\n",
    "\n",
    "context = 3\n",
    "exp_size = 5\n",
    "rob_size = 2\n",
    "\n",
    "x = np.zeros((rob_size,exp_size,2))\n",
    "y = np.zeros((rob_size,exp_size,1))\n",
    "\n",
    "\n",
    "for j in range(rob_size):\n",
    "    for i in range(5):\n",
    "        x[j,i] = np.ones((2,))*i\n",
    "        y[j,i] = np.ones((1,))*i\n",
    "    x[j,0] = np.ones((2,))*5\n",
    "# [[0,0],[1,1],[2,2],[3,3],[4,4]] => [[0,0],[0,0],[1,1],[2,2],[3,3],[4,4]]\n",
    "\n",
    "#appendent = np.repeat(np.full_like(x[0],x[0]),context-1,axis=0).reshape((context-1,2))\n",
    "#x = np.concatenate((appendent,x),axis=0)\n",
    "\n",
    "\n",
    "# [[0,0],[1,1],[2,2],[3,3],[4,4]] => [[[0,0],[1,1]], [[1,1],[2,2]], [[2,2],[3,3]], [[3,3],[4,4]]]\n",
    "\n",
    "# (3,episode_l,32) => (3,B,10,32)\n",
    "new_x = np.zeros((rob_size,exp_size-context+1,context,2))\n",
    "for j in range(rob_size):\n",
    "    l = np.array([x[j,i-context:i] for i in range(context,exp_size+1)])\n",
    "    #print(l)\n",
    "    #print(l.shape)\n",
    "    #print(new_x[j].shape)\n",
    "    new_x[j] = l\n",
    "\n",
    "y = y[:,context-1:]\n",
    "\n",
    "#model.compile(optimizer='adam', loss='mse')\n",
    "#model.fit(x, y, epochs=1)\n",
    "new_x.shape,y\n",
    "#appendent"
   ]
  },
  {
   "cell_type": "code",
   "execution_count": 42,
   "metadata": {},
   "outputs": [
    {
     "name": "stdout",
     "output_type": "stream",
     "text": [
      "[0. 0. 0. 0. 0. 1. 1. 1. 1. 1.]\n",
      "[2. 2. 2. 2. 2.]\n"
     ]
    }
   ],
   "source": [
    "import numpy as np\n",
    "\n",
    "x = np.zeros((3,5,1))\n",
    "x[1] = np.ones((5,1))\n",
    "x[2] = np.ones((5,1))*2\n",
    "\n",
    "s = 0\n",
    "\n",
    "\n",
    "for i in range(2):\n",
    "    r_c = 2 if i == 0 else 1\n",
    "    x_n = x[s:s+r_c].reshape(-1)\n",
    "\n",
    "    print(x_n)\n",
    "    s = s+r_c"
   ]
  },
  {
   "cell_type": "code",
   "execution_count": 47,
   "metadata": {},
   "outputs": [
    {
     "data": {
      "text/plain": [
       "(array([[0.],\n",
       "        [0.],\n",
       "        [1.]]),\n",
       " 1.0)"
      ]
     },
     "execution_count": 47,
     "metadata": {},
     "output_type": "execute_result"
    }
   ],
   "source": [
    "import numpy as np\n",
    "\n",
    "arr = np.zeros((3,1))\n",
    "arr[2] = True\n",
    "arr,np.sum(arr)\n"
   ]
  },
  {
   "cell_type": "code",
   "execution_count": 12,
   "metadata": {},
   "outputs": [
    {
     "data": {
      "text/plain": [
       "array([[6, 7, 8, 4]])"
      ]
     },
     "execution_count": 12,
     "metadata": {},
     "output_type": "execute_result"
    }
   ],
   "source": [
    "import numpy as np\n",
    "\n",
    "exps = np.array([[1,2,3,4,5,6,7,8]])\n",
    "\n",
    "np.append(exps[:,-3:],[[4]],axis=1)"
   ]
  },
  {
   "cell_type": "code",
   "execution_count": 13,
   "metadata": {},
   "outputs": [
    {
     "data": {
      "text/plain": [
       "(array([[ 1,  1],\n",
       "        [-1,  1],\n",
       "        [ 1, -1],\n",
       "        [-1, -1]]),\n",
       " array([[0],\n",
       "        [0]], dtype=int32),\n",
       " array([[[1, 1]],\n",
       " \n",
       "        [[1, 1]]]))"
      ]
     },
     "execution_count": 13,
     "metadata": {},
     "output_type": "execute_result"
    }
   ],
   "source": [
    "import numpy as np\n",
    "\n",
    "a = np.array([[1,1],[-1,1],[1,-1],[-1,-1]])\n",
    "\n",
    "b = np.array([[0.],[0.]]).astype(np.int32)\n",
    "\n",
    "a,b,a[b]"
   ]
  },
  {
   "cell_type": "code",
   "execution_count": 5,
   "metadata": {},
   "outputs": [
    {
     "data": {
      "text/plain": [
       "<tf.Tensor: shape=(1, 2), dtype=float32, numpy=array([[0., 0.]], dtype=float32)>"
      ]
     },
     "execution_count": 5,
     "metadata": {},
     "output_type": "execute_result"
    }
   ],
   "source": [
    "import tensorflow as tf\n",
    "import numpy as np\n",
    "model_layers = tf.keras.Sequential(\n",
    "        [\n",
    "            tf.keras.layers.Dense(64,activation='tanh'),\n",
    "            #tf.keras.layers.Dense(64,activation='tanh',kernel_initializer=std_kernel_initilizer,bias_initializer=bias_initilizer),\n",
    "            tf.keras.layers.LayerNormalization(),\n",
    "            tf.keras.layers.LSTM(64,activation='tanh'),\n",
    "            tf.keras.layers.LayerNormalization(),\n",
    "            tf.keras.layers.Dense(2),\n",
    "        ]\n",
    "    )\n",
    "model_layers.build(input_shape=(None, None,32))\n",
    "\n",
    "model_layers(np.zeros((1,10,32)))"
   ]
  },
  {
   "cell_type": "code",
   "execution_count": 8,
   "metadata": {},
   "outputs": [
    {
     "data": {
      "text/plain": [
       "array([0.1, 0.2])"
      ]
     },
     "execution_count": 8,
     "metadata": {},
     "output_type": "execute_result"
    }
   ],
   "source": [
    "np.roll(np.array([0.2,0.1]),shift=1,axis=0)"
   ]
  },
  {
   "cell_type": "code",
   "execution_count": null,
   "metadata": {},
   "outputs": [
    {
     "data": {
      "text/plain": [
       "<tf.Tensor: shape=(2, 1), dtype=float32, numpy=\n",
       "array([[-0.2007564],\n",
       "       [-0.0850025]], dtype=float32)>"
      ]
     },
     "execution_count": 7,
     "metadata": {},
     "output_type": "execute_result"
    }
   ],
   "source": [
    "import tensorflow_probability as tfp\n",
    "\n",
    "tfd = tfp.distributions.Categorical(probs=[0.2,0.1,0.3,0.4])\n",
    "\n",
    "tfd.sample()"
   ]
  },
  {
   "cell_type": "code",
   "execution_count": 35,
   "metadata": {},
   "outputs": [
    {
     "data": {
      "image/png": "[encoded data removed]",
      "text/plain": [
       "<Figure size 1000x200 with 20 Axes>"
      ]
     },
     "metadata": {},
     "output_type": "display_data"
    }
   ],
   "source": [
    "plt.figure(figsize=(10,2))\n",
    "for i in range(20):\n",
    "    plt.subplot(2,10, i + 1)\n",
    "    plt.imshow(data[i, :, :, 0], cmap='gray')\n",
    "    plt.axis('off')"
   ]
  }
 ],
 "metadata": {
  "kernelspec": {
   "display_name": "Python 3",
   "language": "python",
   "name": "python3"
  },
  "language_info": {
   "codemirror_mode": {
    "name": "ipython",
    "version": 3
   },
   "file_extension": ".py",
   "mimetype": "text/x-python",
   "name": "python",
   "nbconvert_exporter": "python",
   "pygments_lexer": "ipython3",
   "version": "3.10.6"
  },
  "orig_nbformat": 4,
  "vscode": {
   "interpreter": {
    "hash": "aee8b7b246df8f9039afb4144a1f6fd8d2ca17a180786b69acc140d282b71a49"
   }
  }
 },
 "nbformat": 4,
 "nbformat_minor": 2
}
